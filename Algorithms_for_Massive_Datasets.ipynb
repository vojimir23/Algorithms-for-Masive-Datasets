{
  "cells": [
    {
      "cell_type": "markdown",
      "metadata": {
        "id": "vfJPcktfusEI"
      },
      "source": [
        "**Algorithms for Massive Datasets**  - Vojimir Ranitovic matricola:963780\n",
        "\n",
        "\n",
        "---\n",
        "\n",
        "\n",
        "**Market-basket analysis (Ukraine Conflict)**\n",
        "\n",
        "\n",
        "\n"
      ]
    },
    {
      "cell_type": "code",
      "execution_count": 1,
      "metadata": {
        "id": "XqGCxVCERJPS"
      },
      "outputs": [],
      "source": [
        "%%capture \n",
        "!pip install pyspark  \n",
        "!pip install findspark"
      ]
    },
    {
      "cell_type": "code",
      "execution_count": 2,
      "metadata": {
        "id": "P_kvZzxERQlb"
      },
      "outputs": [],
      "source": [
        "%%capture  \n",
        "import   pyspark  \n",
        "import   os  \n",
        "import   pandas   as   pd  \n",
        "import   numpy   as   np  \n",
        "import   csv  \n",
        "import   re  \n",
        "import   string  \n",
        "import   nltk  \n",
        "nltk.download (  'all'  ); #all  \n",
        "from   nltk.corpus   import   stopwords  \n",
        "from   nltk.tokenize   import   word_tokenize  \n",
        "#from nltk.stem import PorterStemmer  \n",
        "from   nltk.stem   import   WordNetLemmatizer  \n",
        "import   time \n",
        "import matplotlib.pyplot  as  plt"
      ]
    },
    {
      "cell_type": "markdown",
      "metadata": {
        "id": "jtWP67KGviKr"
      },
      "source": [
        "Importing dataset from Kaggle"
      ]
    },
    {
      "cell_type": "code",
      "execution_count": 3,
      "metadata": {
        "colab": {
          "base_uri": "https://localhost:8080/"
        },
        "id": "GDqKguSfvlWc",
        "outputId": "4e1afe8d-b7eb-428d-c318-cc276127c9be"
      },
      "outputs": [
        {
          "output_type": "stream",
          "name": "stdout",
          "text": [
            "Downloading ukraine-russian-crisis-twitter-dataset-1-2-m-rows.zip to ./datasets\n",
            "100% 8.62G/8.64G [01:02<00:00, 217MB/s]\n",
            "100% 8.64G/8.64G [01:02<00:00, 148MB/s]\n"
          ]
        }
      ],
      "source": [
        "os.environ[\"KAGGLE_USERNAME\"] = 'vojimirranitovic'\n",
        "os.environ[\"KAGGLE_KEY\"] = '8823ff207b2176411ae291b462ef9765'\n",
        "\n",
        "ref = 'bwandowando/ukraine-russian-crisis-twitter-dataset-1-2-m-rows'\n",
        "!mkdir datasets\n",
        "!kaggle datasets download $ref --unzip -p ./datasets"
      ]
    },
    {
      "cell_type": "code",
      "execution_count": 4,
      "metadata": {
        "id": "YRSgpG0LvlY9"
      },
      "outputs": [],
      "source": [
        "# From whole dataset I chose only dataset for 21th April. There are 361151 tweets.\n",
        "OneFile = r\"./datasets/0421_UkraineCombinedTweetsDeduped.csv.gzip\"\n",
        "df = pd.read_csv(OneFile, compression='gzip', encoding='utf-8', quoting=csv.QUOTE_ALL)"
      ]
    },
    {
      "cell_type": "code",
      "execution_count": 5,
      "metadata": {
        "colab": {
          "base_uri": "https://localhost:8080/"
        },
        "id": "TyK_ikCLvlcJ",
        "outputId": "3a1e7845-e6e5-4fb0-fa42-11ef52c9f176"
      },
      "outputs": [
        {
          "output_type": "execute_result",
          "data": {
            "text/plain": [
              "Unnamed: 0        361151\n",
              "userid            361151\n",
              "username          361151\n",
              "acctdesc          281595\n",
              "location          189232\n",
              "following         361151\n",
              "followers         361151\n",
              "totaltweets       361151\n",
              "usercreatedts     361151\n",
              "tweetid           361151\n",
              "tweetcreatedts    361151\n",
              "retweetcount      361151\n",
              "text              361151\n",
              "hashtags          361151\n",
              "language          361151\n",
              "coordinates          109\n",
              "favorite_count    361151\n",
              "extractedts       361151\n",
              "dtype: int64"
            ]
          },
          "metadata": {},
          "execution_count": 5
        }
      ],
      "source": [
        "df.count() #there is 361151 tweets"
      ]
    },
    {
      "cell_type": "code",
      "execution_count": 6,
      "metadata": {
        "id": "aIHpfLbPvlfR"
      },
      "outputs": [],
      "source": [
        "only_english=df[df['language'].str.contains('en')] # filtering only tweets on english language. There are 261202 on English, so there are around 70% of english tweets among other languages."
      ]
    },
    {
      "cell_type": "code",
      "execution_count": 7,
      "metadata": {
        "id": "Bjtzi69o7GG9"
      },
      "outputs": [],
      "source": [
        "ENdf=only_english[{\"text\"}]"
      ]
    },
    {
      "cell_type": "code",
      "execution_count": 8,
      "metadata": {
        "id": "rlVj_PRZ7Ili"
      },
      "outputs": [],
      "source": [
        "ENdf=ENdf.sample(frac=0.01, replace=False, random_state=1) #randomly taking 1% of dataset =2612 rows (tweets)"
      ]
    },
    {
      "cell_type": "code",
      "execution_count": 9,
      "metadata": {
        "id": "KJGsdjsX7KpC"
      },
      "outputs": [],
      "source": [
        "ENdf=ENdf.text.tolist() "
      ]
    },
    {
      "cell_type": "markdown",
      "metadata": {
        "id": "8cbU2bIg8PIj"
      },
      "source": [
        "Initializing Spark environment"
      ]
    },
    {
      "cell_type": "code",
      "execution_count": 10,
      "metadata": {
        "id": "Qr91g0lp7t9r"
      },
      "outputs": [],
      "source": [
        "from pyspark.sql import SparkSession\n",
        "\n",
        "spark = SparkSession.builder.master(\"local[*]\").getOrCreate() #local[*] to run worker node threads on all available cores - in my case it is 2\n",
        "sc = spark.sparkContext\n",
        "sc.setSystemProperty(\"spark.serializer\", \"org.apache.spark.serializer.KryoSerializer\") # I set KryoSerializer (default is Java)"
      ]
    },
    {
      "cell_type": "code",
      "execution_count": 11,
      "metadata": {
        "id": "zaPl_Q9b12qk",
        "colab": {
          "base_uri": "https://localhost:8080/",
          "height": 35
        },
        "outputId": "c07d994e-ae36-4d64-f268-e177b9e6872c"
      },
      "outputs": [
        {
          "output_type": "execute_result",
          "data": {
            "text/plain": [
              "'org.apache.spark.serializer.KryoSerializer'"
            ],
            "application/vnd.google.colaboratory.intrinsic+json": {
              "type": "string"
            }
          },
          "metadata": {},
          "execution_count": 11
        }
      ],
      "source": [
        "spark.sparkContext.getConf().get(\"spark.serializer\")"
      ]
    },
    {
      "cell_type": "markdown",
      "metadata": {
        "id": "xXiopo46-igB"
      },
      "source": [
        "Preparing functions for *pre-processing* the data and *parallelizing data*\n"
      ]
    },
    {
      "cell_type": "code",
      "execution_count": 12,
      "metadata": {
        "id": "fRYO6-vf7t7i"
      },
      "outputs": [],
      "source": [
        "stopwords = set(stopwords.words(\"english\"))"
      ]
    },
    {
      "cell_type": "code",
      "execution_count": 13,
      "metadata": {
        "id": "MCV_3ap87t35"
      },
      "outputs": [],
      "source": [
        "def text_cleaning(text):\n",
        "   \n",
        "    text  = \"\".join([char for char in text if char not in string.punctuation])\n",
        "    text = re.sub(r'http\\S+', '', text)\n",
        "    text = re.sub('[0-9]+', '', text)\n",
        "    text = re.sub('[“,”,’]','',text) #additionally added because punctuation function didn't remove it\n",
        "    text=text.lower()\n",
        "    text = word_tokenize(text)\n",
        "    text = [word for word in text if word not in stopwords]\n",
        "    #ps = nltk.PorterStemmer() #I decided not to use stemmer, it is faster but in this case i would like more of context\n",
        "    #text = [ps.stem(word) for word in text]\n",
        "    wn = nltk.WordNetLemmatizer()\n",
        "    text = [wn.lemmatize(word) for word in text]\n",
        "  \n",
        "    return text\n",
        "\n",
        "# Function for emoji removing is mainly taken from stackoverflow\n",
        "#https://stackoverflow.com/questions/53322870/unable-to-remove-some-emojis-from-tweets-in-python \n",
        "def deEmojify(text):\n",
        "    regrex_pattern = re.compile(pattern = \"[\"\n",
        "        u\"\\U0001F600-\\U0001F64F\"  # emoticons\n",
        "        u\"\\U0001F300-\\U0001F5FF\"  # symbols & pictographs\n",
        "        u\"\\U0001F680-\\U0001F6FF\"  # transport & map symbols\n",
        "        u\"\\U0001F1E0-\\U0001F1FF\"  # flags (iOS)\n",
        "        u\"\\U00002500-\\U00002BEF\"  # chinese char\n",
        "        u\"\\U00002702-\\U000027B0\"\n",
        "        u\"\\U00002702-\\U000027B0\"\n",
        "        u\"\\U000024C2-\\U0001F251\"\n",
        "        u\"\\U0001f926-\\U0001f937\"\n",
        "        u\"\\U00010000-\\U0010ffff\"\n",
        "        u\"\\u2640-\\u2642\"\n",
        "        u\"\\u2600-\\u2B55\"\n",
        "        u\"\\u200d\"\n",
        "        u\"\\u23cf\"\n",
        "        u\"\\u23e9\"\n",
        "        u\"\\u231a\"\n",
        "        u\"\\ufe0f\"  # dingbats\n",
        "        u\"\\u3030\"\n",
        "                           \"]+\", flags = re.UNICODE)\n",
        "    return regrex_pattern.sub(r'', text)  "
      ]
    },
    {
      "cell_type": "markdown",
      "metadata": {
        "id": "Ke1kXgQrqgyN"
      },
      "source": [
        "😢Too few partitions — not utilizing all cores available in the cluster.\n",
        "\n",
        "😢 Too many partitions — excessive overhead in managing many small tasks as well as data movement."
      ]
    },
    {
      "cell_type": "code",
      "execution_count": 14,
      "metadata": {
        "id": "n-i9O2Y37t1j"
      },
      "outputs": [],
      "source": [
        "rdd0 = sc.parallelize(ENdf,2) # I used number of parallelization=2, as it shown me least time for algorithm to finish"
      ]
    },
    {
      "cell_type": "code",
      "execution_count": 15,
      "metadata": {
        "id": "TNSKnyZe7tzV"
      },
      "outputs": [],
      "source": [
        "rdd=rdd0.map(lambda x: (1,list(set(text_cleaning(deEmojify(x))))))    # This is final rdd that will be used later"
      ]
    },
    {
      "cell_type": "code",
      "source": [
        "rdd.getNumPartitions()"
      ],
      "metadata": {
        "colab": {
          "base_uri": "https://localhost:8080/"
        },
        "id": "Q31a47gAarSW",
        "outputId": "e2e03484-76cd-429d-beeb-0716bcb3f760"
      },
      "execution_count": 16,
      "outputs": [
        {
          "output_type": "execute_result",
          "data": {
            "text/plain": [
              "2"
            ]
          },
          "metadata": {},
          "execution_count": 16
        }
      ]
    },
    {
      "cell_type": "markdown",
      "metadata": {
        "id": "HBxCHuJiA1Bi"
      },
      "source": [
        "# A-Priori Algorithm and step by step approach"
      ]
    },
    {
      "cell_type": "code",
      "execution_count": 17,
      "metadata": {
        "id": "OvfsHSi4B--O"
      },
      "outputs": [],
      "source": [
        "threshold_as_percent = 0.05 # for first time I will use 5%\n",
        "threshold=round(rdd0.count()*threshold_as_percent)"
      ]
    },
    {
      "cell_type": "code",
      "execution_count": 18,
      "metadata": {
        "colab": {
          "base_uri": "https://localhost:8080/"
        },
        "id": "HIb0aUnjVEcy",
        "outputId": "e1e9a212-152d-4eb0-ffee-bb74a68a75a2"
      },
      "outputs": [
        {
          "output_type": "execute_result",
          "data": {
            "text/plain": [
              "131"
            ]
          },
          "metadata": {},
          "execution_count": 18
        }
      ],
      "source": [
        "threshold"
      ]
    },
    {
      "cell_type": "markdown",
      "source": [
        "Usefull functions:"
      ],
      "metadata": {
        "id": "-wJLcGClEGsb"
      }
    },
    {
      "cell_type": "code",
      "source": [
        "def twin(x): return len(set(x)) != len(x) # Checking if tupple has the same members (1,1) and (1,1) will be removed\n",
        "def flat(tuples): return tuple(tuple_item for tup in tuples for tuple_item in tup) # This f will be used for flattening two tuples ex. (1,2),(2,6) ==> (1,2,2,6)\n",
        "def summing(x,y): return x+y # ordinary sum function\n",
        "def joining(x): return x.join(x) # just for shortening the code a little bit. It works only when joining rdd with itself\n",
        "def t_in_t(x, y): return (x, (y,)) # making tuple in tuple (x,(y))"
      ],
      "metadata": {
        "id": "7c1T5idDEFdo"
      },
      "execution_count": 19,
      "outputs": []
    },
    {
      "cell_type": "markdown",
      "metadata": {
        "id": "3HVNMQLlFaKe"
      },
      "source": [
        "*Singletons*"
      ]
    },
    {
      "cell_type": "code",
      "execution_count": 20,
      "metadata": {
        "colab": {
          "base_uri": "https://localhost:8080/"
        },
        "id": "loN8rX-YAwTZ",
        "outputId": "e28d4c70-7a8a-4869-9a99-26cc96f4c0e6"
      },
      "outputs": [
        {
          "output_type": "execute_result",
          "data": {
            "text/plain": [
              "[('ukraine', 1210),\n",
              " ('russian', 578),\n",
              " ('russia', 488),\n",
              " ('tigray', 463),\n",
              " ('mariupol', 421)]"
            ]
          },
          "metadata": {},
          "execution_count": 20
        }
      ],
      "source": [
        "singleton_candidates = rdd.flatMap(lambda x: x[1]).map(lambda x: (x,1)) #Taking every item and making pairs (x,1)\n",
        "\n",
        "singleton_candidates_frequencies = singleton_candidates.reduceByKey(summing).filter(lambda x: x[1] >= threshold) #summing values for each word and filtering it to see which word will pass threshold\n",
        "\n",
        "singleton_candidates_frequencies.sortBy(lambda x: -x[1]).take(5) #sorting frequent singletons to see which one has the highest frequency, sorting is intensive computation, especially collect()"
      ]
    },
    {
      "cell_type": "code",
      "execution_count": 21,
      "metadata": {
        "colab": {
          "base_uri": "https://localhost:8080/"
        },
        "id": "LjdPz0ZlAwQ8",
        "outputId": "50c3a905-c4be-4ae4-f48f-1f4fe35b24b8"
      },
      "outputs": [
        {
          "output_type": "execute_result",
          "data": {
            "text/plain": [
              "[(1, 'standwithukraine'),\n",
              " (1, 'humanitarian'),\n",
              " (1, 'armukrainenow'),\n",
              " (1, 'weapon'),\n",
              " (1, 'mariupol')]"
            ]
          },
          "metadata": {},
          "execution_count": 21
        }
      ],
      "source": [
        "singleton_candidates_for_pairs = singleton_candidates_frequencies.map(lambda x: (1, x[0])) #preparing data for join (with itself)\n",
        "singleton_candidates_for_pairs.take(5)"
      ]
    },
    {
      "cell_type": "markdown",
      "metadata": {
        "id": "tC3jI-kyFkca"
      },
      "source": [
        "*Doubletons*"
      ]
    },
    {
      "cell_type": "code",
      "execution_count": 22,
      "metadata": {
        "id": "jiPVjOfSAwMP",
        "colab": {
          "base_uri": "https://localhost:8080/"
        },
        "outputId": "734c64f4-96b8-4490-d1b6-b8b36a82617d"
      },
      "outputs": [
        {
          "output_type": "execute_result",
          "data": {
            "text/plain": [
              "[(('armukrainenow', 'standwithukraine'), 1),\n",
              " (('mariupol', 'standwithukraine'), 1),\n",
              " (('standwithukraine', 'ukrainian'), 1),\n",
              " (('civilian', 'standwithukraine'), 1),\n",
              " (('standwithukraine', 'world'), 1)]"
            ]
          },
          "metadata": {},
          "execution_count": 22
        }
      ],
      "source": [
        "doubleton_candidates = joining(singleton_candidates_for_pairs).filter(lambda x:not(twin(x[1]))).map(lambda x: (tuple(sorted(x[1])), 1)).reduceByKey(min) \n",
        "doubleton_candidates.take(5)"
      ]
    },
    {
      "cell_type": "code",
      "execution_count": 23,
      "metadata": {
        "id": "aPUdcYHOAwJt"
      },
      "outputs": [],
      "source": [
        "doubleton_candidates_for_scan = doubleton_candidates.map(lambda x: x[0]).collect() # this will be a list for scanning\n",
        "#doubleton_candidates_for_scan"
      ]
    },
    {
      "cell_type": "code",
      "execution_count": 24,
      "metadata": {
        "id": "rvQbsUvJAwHJ"
      },
      "outputs": [],
      "source": [
        "enumerated_baskets = rdd.map(lambda x: x[1]).zipWithIndex().flatMap(lambda x: [(x[1], item) for item in x[0]]) # enumerated_baskets (from 0 to max number of baskets)from the starting rdd\n",
        "\n",
        "doubletons_in_baskets = joining(enumerated_baskets)#.filter(lambda x:not(twin(x[1])))\n",
        "#doubletons_in_baskets.count()"
      ]
    },
    {
      "cell_type": "code",
      "execution_count": 35,
      "metadata": {
        "id": "x2Op-k73AwAg",
        "colab": {
          "base_uri": "https://localhost:8080/"
        },
        "outputId": "7f0caf71-ac9e-476f-fdfc-905d39aae87d"
      },
      "outputs": [
        {
          "output_type": "execute_result",
          "data": {
            "text/plain": [
              "[(1, ('russian', 'ukraine')),\n",
              " (1, ('russia', 'ukraine')),\n",
              " (1, ('ukraine', 'war')),\n",
              " (1, ('secblinken', 'tigray')),\n",
              " (1, ('mariupol', 'russian'))]"
            ]
          },
          "metadata": {},
          "execution_count": 35
        }
      ],
      "source": [
        "doubleton_candidates_frequencies = doubletons_in_baskets.filter(lambda x: x[1] in doubleton_candidates_for_scan).map(lambda x: (x[1],1)).reduceByKey(summing).filter(lambda x: x[1] >= threshold)\n",
        "doubleton_candidates_for_triplets = doubleton_candidates_frequencies.map(lambda x: (1, x[0]))\n",
        "doubleton_candidates_for_triplets.take(5)"
      ]
    },
    {
      "cell_type": "code",
      "execution_count": 26,
      "metadata": {
        "colab": {
          "base_uri": "https://localhost:8080/"
        },
        "id": "hJuclQw-XnwQ",
        "outputId": "5d2e939b-d521-4b61-ff31-cc48e896c933"
      },
      "outputs": [
        {
          "output_type": "execute_result",
          "data": {
            "text/plain": [
              "[]"
            ]
          },
          "metadata": {},
          "execution_count": 26
        }
      ],
      "source": [
        "# Here we have to check if the length of tuple is 3, since we can get tuple of 2, or 4 elements for example\n",
        "triplets_candidates = joining(doubleton_candidates_for_triplets).map(lambda x: (1, flat(x[1]))).map(lambda x: (1, tuple(set(x[1]))) ).filter(lambda x: len(x[1]) == 3).map(lambda x: (tuple(sorted(x[1])), 1)).reduceByKey(min)\n",
        "\n",
        "triples_candidates_for_scan = triplets_candidates.map(lambda x: x[0]).collect()\n",
        "\n",
        "triplets_in_baskets = enumerated_baskets.map(lambda x: t_in_t(x[0],x[1])).join(doubletons_in_baskets).map(lambda x: (1, flat(x[1])))\n",
        "                \n",
        "triplets_candidates_frequencies = triplets_in_baskets.filter(lambda x: x[1] in triples_candidates_for_scan).map(lambda x: (x[1],1)).reduceByKey(summing).filter(lambda x: x[1] >= threshold)\n",
        "                        \n",
        "triplets_candidates_frequencies.take(5)"
      ]
    },
    {
      "cell_type": "code",
      "execution_count": 30,
      "metadata": {
        "id": "n5DFYi2gXntu"
      },
      "outputs": [],
      "source": [
        "def APriori(rdd, threshold):\n",
        "\n",
        "  # Before while loop we have to make a starting point with counting singletons and making candidates for counting pairs\n",
        "  singleton_candidates_for_pairs = rdd.flatMap(lambda x: x[1]).map(lambda x: (x,1)).reduceByKey(summing)\n",
        "  singleton_candidates_for_pairs = singleton_candidates_for_pairs.filter(lambda x: x[1] >= threshold).map(lambda x: (1, x[0]))\n",
        "  # Result contains all frequent singletons, later on it will be updated with dobuletons, triplets and so on ( if there is superset)\n",
        "  result = singleton_candidates_for_pairs.map(lambda x: (x[1],)).collect()\n",
        "\n",
        "  # Singletons that are frequent will join with itself and make candidates for counting pairs\n",
        "  candidates = joining(singleton_candidates_for_pairs).filter(lambda x: not(twin(x[1]))).map(lambda x: (tuple(sorted(x[1])), 1)).reduceByKey(min)\n",
        "  #Start to compare for pairs, this will be increased by 1 every time                                              \n",
        "  starting_length = 2\n",
        "  # Enumerating each basket in the starting rdd\n",
        "  enumerated_baskets = rdd.map(lambda x: x[1]).zipWithIndex().flatMap(lambda x: [(x[1], item) for item in x[0]]).map(lambda x: t_in_t(x[0],x[1]))\n",
        "\n",
        "  itemsets_in_baskets = enumerated_baskets\n",
        "\n",
        "    # I cached enumerated rdd because it will be used each time in the loop\n",
        "  enumerated_baskets.persist() # I used persist because it can be tuned more than cache (default is persisting only in the main memory)\n",
        "\n",
        "  while candidates.count() > 0:\n",
        "    # Pairs, triplets etc. that passed filtering phase\n",
        "    candidates_for_scan = candidates.map(lambda x: x[0]).collect()\n",
        "    # Make enumerated baskets for each step, doubletons, triples...\n",
        "    itemsets_in_baskets = enumerated_baskets.join(itemsets_in_baskets).map(lambda x: (x[0], flat(x[1])))\n",
        "\n",
        "    items_pass_threshold = itemsets_in_baskets.filter(lambda x: x[1] in candidates_for_scan).map(lambda x: (x[1],1)).reduceByKey(summing)\n",
        "    items_pass_threshold = items_pass_threshold.filter(lambda x: x[1] >= threshold).map(lambda x: (1, x[0]))                    \n",
        "    # Update result, add new frequent items\n",
        "    result = result + items_pass_threshold.map(lambda x: x[1]).collect()\n",
        "\n",
        "    # Incrementation for checking if tuple is consisting of pairs, triples etc.\n",
        "    starting_length = starting_length + 1\n",
        "\n",
        "    # Candidates for next step\n",
        "    candidates = joining(items_pass_threshold).map(lambda x: (1, flat(x[1]))).map(lambda x: (1, tuple(set(x[1])))) \n",
        "    candidates = candidates.filter(lambda x: len(x[1]) == starting_length).filter(lambda x: not(twin(x[1]))).map(lambda x: (tuple(sorted(x[1])), 1)).reduceByKey(min) \n",
        "    enumerated_baskets.unpersist()                    \n",
        "  return result"
      ]
    },
    {
      "cell_type": "code",
      "execution_count": 33,
      "metadata": {
        "id": "5IU0iWLFxvIH",
        "colab": {
          "base_uri": "https://localhost:8080/"
        },
        "outputId": "6d5bc713-084d-48a1-edd9-6fe91662b96b"
      },
      "outputs": [
        {
          "output_type": "execute_result",
          "data": {
            "text/plain": [
              "[('standwithukraine',),\n",
              " ('humanitarian',),\n",
              " ('armukrainenow',),\n",
              " ('weapon',),\n",
              " ('mariupol',),\n",
              " ('ukrainian',),\n",
              " ('civilian',),\n",
              " ('world',),\n",
              " ('ethiopia',),\n",
              " ('support',),\n",
              " ('must',),\n",
              " ('putin',),\n",
              " ('force',),\n",
              " ('russian',),\n",
              " ('ukraine',),\n",
              " ('people',),\n",
              " ('u',),\n",
              " ('amp',),\n",
              " ('war',),\n",
              " ('potus',),\n",
              " ('secblinken',),\n",
              " ('tigray',),\n",
              " ('russia',),\n",
              " ('azovstal',),\n",
              " ('russian', 'ukraine'),\n",
              " ('russia', 'ukraine'),\n",
              " ('ukraine', 'war'),\n",
              " ('secblinken', 'tigray'),\n",
              " ('mariupol', 'russian'),\n",
              " ('ethiopia', 'tigray'),\n",
              " ('mariupol', 'ukraine'),\n",
              " ('people', 'ukraine'),\n",
              " ('amp', 'tigray'),\n",
              " ('russian', 'ukrainian'),\n",
              " ('ukraine', 'ukrainian')]"
            ]
          },
          "metadata": {},
          "execution_count": 33
        }
      ],
      "source": [
        "Res=APriori(rdd,threshold)\n",
        "Res"
      ]
    },
    {
      "cell_type": "code",
      "source": [
        "printBetter = pd.DataFrame(data = Res )\n",
        "printBetter"
      ],
      "metadata": {
        "colab": {
          "base_uri": "https://localhost:8080/",
          "height": 1000
        },
        "id": "U8xxU1FdV6cJ",
        "outputId": "7bbd38cf-c680-493f-acf2-37cba811980f"
      },
      "execution_count": null,
      "outputs": [
        {
          "output_type": "execute_result",
          "data": {
            "text/plain": [
              "                   0          1\n",
              "0   standwithukraine       None\n",
              "1       humanitarian       None\n",
              "2      armukrainenow       None\n",
              "3             weapon       None\n",
              "4           mariupol       None\n",
              "5          ukrainian       None\n",
              "6           civilian       None\n",
              "7              world       None\n",
              "8           ethiopia       None\n",
              "9            support       None\n",
              "10              must       None\n",
              "11             putin       None\n",
              "12             force       None\n",
              "13           russian       None\n",
              "14           ukraine       None\n",
              "15            people       None\n",
              "16                 u       None\n",
              "17               amp       None\n",
              "18               war       None\n",
              "19             potus       None\n",
              "20        secblinken       None\n",
              "21            tigray       None\n",
              "22            russia       None\n",
              "23          azovstal       None\n",
              "24           russian    ukraine\n",
              "25            russia    ukraine\n",
              "26           ukraine        war\n",
              "27        secblinken     tigray\n",
              "28          mariupol    russian\n",
              "29          ethiopia     tigray\n",
              "30          mariupol    ukraine\n",
              "31            people    ukraine\n",
              "32               amp     tigray\n",
              "33           russian  ukrainian\n",
              "34           ukraine  ukrainian"
            ],
            "text/html": [
              "\n",
              "  <div id=\"df-7d7b11e6-931e-4a9c-a127-56d925d790e7\">\n",
              "    <div class=\"colab-df-container\">\n",
              "      <div>\n",
              "<style scoped>\n",
              "    .dataframe tbody tr th:only-of-type {\n",
              "        vertical-align: middle;\n",
              "    }\n",
              "\n",
              "    .dataframe tbody tr th {\n",
              "        vertical-align: top;\n",
              "    }\n",
              "\n",
              "    .dataframe thead th {\n",
              "        text-align: right;\n",
              "    }\n",
              "</style>\n",
              "<table border=\"1\" class=\"dataframe\">\n",
              "  <thead>\n",
              "    <tr style=\"text-align: right;\">\n",
              "      <th></th>\n",
              "      <th>0</th>\n",
              "      <th>1</th>\n",
              "    </tr>\n",
              "  </thead>\n",
              "  <tbody>\n",
              "    <tr>\n",
              "      <th>0</th>\n",
              "      <td>standwithukraine</td>\n",
              "      <td>None</td>\n",
              "    </tr>\n",
              "    <tr>\n",
              "      <th>1</th>\n",
              "      <td>humanitarian</td>\n",
              "      <td>None</td>\n",
              "    </tr>\n",
              "    <tr>\n",
              "      <th>2</th>\n",
              "      <td>armukrainenow</td>\n",
              "      <td>None</td>\n",
              "    </tr>\n",
              "    <tr>\n",
              "      <th>3</th>\n",
              "      <td>weapon</td>\n",
              "      <td>None</td>\n",
              "    </tr>\n",
              "    <tr>\n",
              "      <th>4</th>\n",
              "      <td>mariupol</td>\n",
              "      <td>None</td>\n",
              "    </tr>\n",
              "    <tr>\n",
              "      <th>5</th>\n",
              "      <td>ukrainian</td>\n",
              "      <td>None</td>\n",
              "    </tr>\n",
              "    <tr>\n",
              "      <th>6</th>\n",
              "      <td>civilian</td>\n",
              "      <td>None</td>\n",
              "    </tr>\n",
              "    <tr>\n",
              "      <th>7</th>\n",
              "      <td>world</td>\n",
              "      <td>None</td>\n",
              "    </tr>\n",
              "    <tr>\n",
              "      <th>8</th>\n",
              "      <td>ethiopia</td>\n",
              "      <td>None</td>\n",
              "    </tr>\n",
              "    <tr>\n",
              "      <th>9</th>\n",
              "      <td>support</td>\n",
              "      <td>None</td>\n",
              "    </tr>\n",
              "    <tr>\n",
              "      <th>10</th>\n",
              "      <td>must</td>\n",
              "      <td>None</td>\n",
              "    </tr>\n",
              "    <tr>\n",
              "      <th>11</th>\n",
              "      <td>putin</td>\n",
              "      <td>None</td>\n",
              "    </tr>\n",
              "    <tr>\n",
              "      <th>12</th>\n",
              "      <td>force</td>\n",
              "      <td>None</td>\n",
              "    </tr>\n",
              "    <tr>\n",
              "      <th>13</th>\n",
              "      <td>russian</td>\n",
              "      <td>None</td>\n",
              "    </tr>\n",
              "    <tr>\n",
              "      <th>14</th>\n",
              "      <td>ukraine</td>\n",
              "      <td>None</td>\n",
              "    </tr>\n",
              "    <tr>\n",
              "      <th>15</th>\n",
              "      <td>people</td>\n",
              "      <td>None</td>\n",
              "    </tr>\n",
              "    <tr>\n",
              "      <th>16</th>\n",
              "      <td>u</td>\n",
              "      <td>None</td>\n",
              "    </tr>\n",
              "    <tr>\n",
              "      <th>17</th>\n",
              "      <td>amp</td>\n",
              "      <td>None</td>\n",
              "    </tr>\n",
              "    <tr>\n",
              "      <th>18</th>\n",
              "      <td>war</td>\n",
              "      <td>None</td>\n",
              "    </tr>\n",
              "    <tr>\n",
              "      <th>19</th>\n",
              "      <td>potus</td>\n",
              "      <td>None</td>\n",
              "    </tr>\n",
              "    <tr>\n",
              "      <th>20</th>\n",
              "      <td>secblinken</td>\n",
              "      <td>None</td>\n",
              "    </tr>\n",
              "    <tr>\n",
              "      <th>21</th>\n",
              "      <td>tigray</td>\n",
              "      <td>None</td>\n",
              "    </tr>\n",
              "    <tr>\n",
              "      <th>22</th>\n",
              "      <td>russia</td>\n",
              "      <td>None</td>\n",
              "    </tr>\n",
              "    <tr>\n",
              "      <th>23</th>\n",
              "      <td>azovstal</td>\n",
              "      <td>None</td>\n",
              "    </tr>\n",
              "    <tr>\n",
              "      <th>24</th>\n",
              "      <td>russian</td>\n",
              "      <td>ukraine</td>\n",
              "    </tr>\n",
              "    <tr>\n",
              "      <th>25</th>\n",
              "      <td>russia</td>\n",
              "      <td>ukraine</td>\n",
              "    </tr>\n",
              "    <tr>\n",
              "      <th>26</th>\n",
              "      <td>ukraine</td>\n",
              "      <td>war</td>\n",
              "    </tr>\n",
              "    <tr>\n",
              "      <th>27</th>\n",
              "      <td>secblinken</td>\n",
              "      <td>tigray</td>\n",
              "    </tr>\n",
              "    <tr>\n",
              "      <th>28</th>\n",
              "      <td>mariupol</td>\n",
              "      <td>russian</td>\n",
              "    </tr>\n",
              "    <tr>\n",
              "      <th>29</th>\n",
              "      <td>ethiopia</td>\n",
              "      <td>tigray</td>\n",
              "    </tr>\n",
              "    <tr>\n",
              "      <th>30</th>\n",
              "      <td>mariupol</td>\n",
              "      <td>ukraine</td>\n",
              "    </tr>\n",
              "    <tr>\n",
              "      <th>31</th>\n",
              "      <td>people</td>\n",
              "      <td>ukraine</td>\n",
              "    </tr>\n",
              "    <tr>\n",
              "      <th>32</th>\n",
              "      <td>amp</td>\n",
              "      <td>tigray</td>\n",
              "    </tr>\n",
              "    <tr>\n",
              "      <th>33</th>\n",
              "      <td>russian</td>\n",
              "      <td>ukrainian</td>\n",
              "    </tr>\n",
              "    <tr>\n",
              "      <th>34</th>\n",
              "      <td>ukraine</td>\n",
              "      <td>ukrainian</td>\n",
              "    </tr>\n",
              "  </tbody>\n",
              "</table>\n",
              "</div>\n",
              "      <button class=\"colab-df-convert\" onclick=\"convertToInteractive('df-7d7b11e6-931e-4a9c-a127-56d925d790e7')\"\n",
              "              title=\"Convert this dataframe to an interactive table.\"\n",
              "              style=\"display:none;\">\n",
              "        \n",
              "  <svg xmlns=\"http://www.w3.org/2000/svg\" height=\"24px\"viewBox=\"0 0 24 24\"\n",
              "       width=\"24px\">\n",
              "    <path d=\"M0 0h24v24H0V0z\" fill=\"none\"/>\n",
              "    <path d=\"M18.56 5.44l.94 2.06.94-2.06 2.06-.94-2.06-.94-.94-2.06-.94 2.06-2.06.94zm-11 1L8.5 8.5l.94-2.06 2.06-.94-2.06-.94L8.5 2.5l-.94 2.06-2.06.94zm10 10l.94 2.06.94-2.06 2.06-.94-2.06-.94-.94-2.06-.94 2.06-2.06.94z\"/><path d=\"M17.41 7.96l-1.37-1.37c-.4-.4-.92-.59-1.43-.59-.52 0-1.04.2-1.43.59L10.3 9.45l-7.72 7.72c-.78.78-.78 2.05 0 2.83L4 21.41c.39.39.9.59 1.41.59.51 0 1.02-.2 1.41-.59l7.78-7.78 2.81-2.81c.8-.78.8-2.07 0-2.86zM5.41 20L4 18.59l7.72-7.72 1.47 1.35L5.41 20z\"/>\n",
              "  </svg>\n",
              "      </button>\n",
              "      \n",
              "  <style>\n",
              "    .colab-df-container {\n",
              "      display:flex;\n",
              "      flex-wrap:wrap;\n",
              "      gap: 12px;\n",
              "    }\n",
              "\n",
              "    .colab-df-convert {\n",
              "      background-color: #E8F0FE;\n",
              "      border: none;\n",
              "      border-radius: 50%;\n",
              "      cursor: pointer;\n",
              "      display: none;\n",
              "      fill: #1967D2;\n",
              "      height: 32px;\n",
              "      padding: 0 0 0 0;\n",
              "      width: 32px;\n",
              "    }\n",
              "\n",
              "    .colab-df-convert:hover {\n",
              "      background-color: #E2EBFA;\n",
              "      box-shadow: 0px 1px 2px rgba(60, 64, 67, 0.3), 0px 1px 3px 1px rgba(60, 64, 67, 0.15);\n",
              "      fill: #174EA6;\n",
              "    }\n",
              "\n",
              "    [theme=dark] .colab-df-convert {\n",
              "      background-color: #3B4455;\n",
              "      fill: #D2E3FC;\n",
              "    }\n",
              "\n",
              "    [theme=dark] .colab-df-convert:hover {\n",
              "      background-color: #434B5C;\n",
              "      box-shadow: 0px 1px 3px 1px rgba(0, 0, 0, 0.15);\n",
              "      filter: drop-shadow(0px 1px 2px rgba(0, 0, 0, 0.3));\n",
              "      fill: #FFFFFF;\n",
              "    }\n",
              "  </style>\n",
              "\n",
              "      <script>\n",
              "        const buttonEl =\n",
              "          document.querySelector('#df-7d7b11e6-931e-4a9c-a127-56d925d790e7 button.colab-df-convert');\n",
              "        buttonEl.style.display =\n",
              "          google.colab.kernel.accessAllowed ? 'block' : 'none';\n",
              "\n",
              "        async function convertToInteractive(key) {\n",
              "          const element = document.querySelector('#df-7d7b11e6-931e-4a9c-a127-56d925d790e7');\n",
              "          const dataTable =\n",
              "            await google.colab.kernel.invokeFunction('convertToInteractive',\n",
              "                                                     [key], {});\n",
              "          if (!dataTable) return;\n",
              "\n",
              "          const docLinkHtml = 'Like what you see? Visit the ' +\n",
              "            '<a target=\"_blank\" href=https://colab.research.google.com/notebooks/data_table.ipynb>data table notebook</a>'\n",
              "            + ' to learn more about interactive tables.';\n",
              "          element.innerHTML = '';\n",
              "          dataTable['output_type'] = 'display_data';\n",
              "          await google.colab.output.renderOutput(dataTable, element);\n",
              "          const docLink = document.createElement('div');\n",
              "          docLink.innerHTML = docLinkHtml;\n",
              "          element.appendChild(docLink);\n",
              "        }\n",
              "      </script>\n",
              "    </div>\n",
              "  </div>\n",
              "  "
            ]
          },
          "metadata": {},
          "execution_count": 29
        }
      ]
    },
    {
      "cell_type": "markdown",
      "metadata": {
        "id": "rfnmgLgL8_os"
      },
      "source": [
        "JAVA AND KRYO SERIALIZING - COMPARISON"
      ]
    },
    {
      "cell_type": "code",
      "source": [
        "# Finding number for parallelize"
      ],
      "metadata": {
        "id": "rqtuh6uj_5QI"
      },
      "execution_count": null,
      "outputs": []
    },
    {
      "cell_type": "code",
      "source": [
        "del rdd0\n",
        "del rdd\n",
        "del spark\n",
        "del sc\n",
        "del threshold"
      ],
      "metadata": {
        "id": "YMcj49Ym__ou"
      },
      "execution_count": null,
      "outputs": []
    },
    {
      "cell_type": "code",
      "source": [
        "#For JAVA\n",
        "spark = SparkSession.builder.master(\"local[*]\").getOrCreate() \n",
        "sc = spark.sparkContext\n",
        "sc.setSystemProperty(\"spark.serializer\", \"org.apache.spark.serializer.JavaSerializer\")\n",
        "partitions = [2,4,6,8,10]\n",
        "threshold=131\n",
        "\n",
        "partitioning_time_java = dict()\n",
        "for i in partitions:\n",
        "  start = time.time()\n",
        "  rdd0 = sc.parallelize(ENdf,i)\n",
        "  rdd=rdd0.map(lambda x: (1,list(set(text_cleaning(deEmojify(x)))))) \n",
        "\n",
        "  APriori(rdd,threshold)  \n",
        "  end = time.time()\n",
        "  partitioning_time_java[i] = end - start\n",
        "  print(\"Execution time: \"+repr(partitioning_time_java[i])+\" for \"+str(rdd.getNumPartitions()) + \" partitions.\")"
      ],
      "metadata": {
        "colab": {
          "base_uri": "https://localhost:8080/"
        },
        "id": "xAWR8hcFADTy",
        "outputId": "6f35e754-1d95-48d7-ad1f-2a5bd40186ee"
      },
      "execution_count": null,
      "outputs": [
        {
          "output_type": "stream",
          "name": "stdout",
          "text": [
            "Execution time: 79.76044774055481 for 2 partitions.\n",
            "Execution time: 81.13129448890686 for 4 partitions.\n",
            "Execution time: 91.28647351264954 for 6 partitions.\n",
            "Execution time: 101.06579256057739 for 8 partitions.\n",
            "Execution time: 112.07740807533264 for 10 partitions.\n"
          ]
        }
      ]
    },
    {
      "cell_type": "code",
      "source": [
        "del rdd0\n",
        "del rdd\n",
        "del spark\n",
        "del sc\n",
        "del partitions\n",
        "del threshold"
      ],
      "metadata": {
        "id": "DyJAX_FYADRS"
      },
      "execution_count": null,
      "outputs": []
    },
    {
      "cell_type": "code",
      "source": [
        "#For KRYO\n",
        "spark = SparkSession.builder.master(\"local[*]\").getOrCreate() \n",
        "sc = spark.sparkContext\n",
        "sc.setSystemProperty(\"spark.serializer\", \"org.apache.spark.serializer.KryoSerializer\")\n",
        "\n",
        "partitions = [2,4,6,8,10]\n",
        "threshold=131\n",
        "\n",
        "partitioning_time_kryo = dict()\n",
        "for i in partitions:\n",
        "  start1 = time.time()\n",
        "  rdd0 = sc.parallelize(ENdf,i)\n",
        "  rdd=rdd0.map(lambda x: (1,list(set(text_cleaning(deEmojify(x)))))) \n",
        "  \n",
        "  APriori(rdd,threshold)  \n",
        "  end1 = time.time()\n",
        "  partitioning_time_kryo[i] = end1 - start1\n",
        "  print(\"Execution time: \"+repr(partitioning_time_kryo[i])+\" for \"+str(rdd.getNumPartitions()) + \" partitions.\")"
      ],
      "metadata": {
        "colab": {
          "base_uri": "https://localhost:8080/"
        },
        "id": "L0OIOiMrADPM",
        "outputId": "1b194b97-4428-4933-cd30-5cd4bee9da37"
      },
      "execution_count": null,
      "outputs": [
        {
          "output_type": "stream",
          "name": "stdout",
          "text": [
            "Execution time: 70.68554592132568 for 2 partitions.\n",
            "Execution time: 80.40112400054932 for 4 partitions.\n",
            "Execution time: 89.66095328330994 for 6 partitions.\n",
            "Execution time: 98.39222979545593 for 8 partitions.\n",
            "Execution time: 107.52220106124878 for 10 partitions.\n"
          ]
        }
      ]
    },
    {
      "cell_type": "code",
      "source": [
        "plt.plot(list(partitioning_time_java.keys()), list(partitioning_time_java.values()),label=\"Java\")\n",
        "plt.plot(list(partitioning_time_kryo.keys()), list(partitioning_time_kryo.values()),label=\"Kryo\")\n",
        "plt.ylabel('Time in seconds',fontsize=15)\n",
        "plt.xlabel('Number of partitions',fontsize=15)\n",
        "plt.title('Time and different rdd partitions',fontsize=20)\n",
        "plt.legend()\n",
        "plt.show()"
      ],
      "metadata": {
        "colab": {
          "base_uri": "https://localhost:8080/",
          "height": 305
        },
        "id": "KussM2-pEugK",
        "outputId": "d06ec70c-0d1b-4961-cfa0-0a30d6232fbe"
      },
      "execution_count": null,
      "outputs": [
        {
          "output_type": "display_data",
          "data": {
            "text/plain": [
              "<IPython.core.display.Javascript object>"
            ],
            "application/javascript": [
              "\n",
              "    async function download(id, filename, size) {\n",
              "      if (!google.colab.kernel.accessAllowed) {\n",
              "        return;\n",
              "      }\n",
              "      const div = document.createElement('div');\n",
              "      const label = document.createElement('label');\n",
              "      label.textContent = `Downloading \"${filename}\": `;\n",
              "      div.appendChild(label);\n",
              "      const progress = document.createElement('progress');\n",
              "      progress.max = size;\n",
              "      div.appendChild(progress);\n",
              "      document.body.appendChild(div);\n",
              "\n",
              "      const buffers = [];\n",
              "      let downloaded = 0;\n",
              "\n",
              "      const channel = await google.colab.kernel.comms.open(id);\n",
              "      // Send a message to notify the kernel that we're ready.\n",
              "      channel.send({})\n",
              "\n",
              "      for await (const message of channel.messages) {\n",
              "        // Send a message to notify the kernel that we're ready.\n",
              "        channel.send({})\n",
              "        if (message.buffers) {\n",
              "          for (const buffer of message.buffers) {\n",
              "            buffers.push(buffer);\n",
              "            downloaded += buffer.byteLength;\n",
              "            progress.value = downloaded;\n",
              "          }\n",
              "        }\n",
              "      }\n",
              "      const blob = new Blob(buffers, {type: 'application/binary'});\n",
              "      const a = document.createElement('a');\n",
              "      a.href = window.URL.createObjectURL(blob);\n",
              "      a.download = filename;\n",
              "      div.appendChild(a);\n",
              "      a.click();\n",
              "      div.remove();\n",
              "    }\n",
              "  "
            ]
          },
          "metadata": {}
        },
        {
          "output_type": "display_data",
          "data": {
            "text/plain": [
              "<IPython.core.display.Javascript object>"
            ],
            "application/javascript": [
              "download(\"download_c0ccf714-f227-476d-a2f5-4ce39a16cb90\", \"abc.pdf\", 13375)"
            ]
          },
          "metadata": {}
        },
        {
          "output_type": "display_data",
          "data": {
            "text/plain": [
              "<Figure size 432x288 with 1 Axes>"
            ],
            "image/png": "[encoded data removed]"
          },
          "metadata": {
            "needs_background": "light"
          }
        }
      ]
    },
    {
      "cell_type": "markdown",
      "source": [
        "JAVA AND KRYO SERIALIZERS - DIFFERENT THRESHOLDS"
      ],
      "metadata": {
        "id": "L4ftpxrTtrkl"
      }
    },
    {
      "cell_type": "code",
      "execution_count": null,
      "metadata": {
        "id": "JTGkUqxLojNF"
      },
      "outputs": [],
      "source": [
        "del threshold\n",
        "del rdd0\n",
        "del rdd\n",
        "del spark\n",
        "del sc"
      ]
    },
    {
      "cell_type": "code",
      "execution_count": null,
      "metadata": {
        "colab": {
          "base_uri": "https://localhost:8080/"
        },
        "id": "QcTJ3w-a8_Vn",
        "outputId": "67d2a9e0-e504-40ff-e384-8f8b07cbb8c9"
      },
      "outputs": [
        {
          "output_type": "stream",
          "name": "stdout",
          "text": [
            "69.8317620754242\n",
            "54.91229486465454\n",
            "52.5312774181366\n",
            "10.10934853553772\n",
            "9.784132957458496\n",
            "9.789589881896973\n",
            "9.67954707145691\n"
          ]
        }
      ],
      "source": [
        "#Apriori using Java serilizer\n",
        "spark = SparkSession.builder.master(\"local[*]\").getOrCreate() \n",
        "sc = spark.sparkContext\n",
        "sc.setSystemProperty(\"spark.serializer\", \"org.apache.spark.serializer.JavaSerializer\")\n",
        "\n",
        "rdd0 = sc.parallelize(ENdf,2)\n",
        "rdd=rdd0.map(lambda x: (1,list(set(text_cleaning(deEmojify(x)))))) \n",
        "\n",
        "percentage = [0.05,0.075,0.1,0.125,0.15,0.175,0.2]\n",
        "multiple = rdd.count()\n",
        "threshold = [x * multiple for x in percentage]\n",
        "\n",
        "support_time_java = dict()\n",
        "for i in threshold:\n",
        "  start = time.time()\n",
        "  APriori(rdd,i)  \n",
        "  end = time.time()\n",
        "  support_time_java[i] = end - start\n",
        "  print(support_time_java[i])"
      ]
    },
    {
      "cell_type": "code",
      "execution_count": null,
      "metadata": {
        "id": "GmaazrFDMLlo"
      },
      "outputs": [],
      "source": [
        "del threshold\n",
        "del rdd0\n",
        "del rdd\n",
        "del multiple\n",
        "del percentage\n",
        "del spark\n",
        "del sc"
      ]
    },
    {
      "cell_type": "code",
      "execution_count": null,
      "metadata": {
        "colab": {
          "base_uri": "https://localhost:8080/"
        },
        "id": "5gGE_6s18_MR",
        "outputId": "87d3c484-8beb-4dc5-e5e0-289d890370cd"
      },
      "outputs": [
        {
          "metadata": {
            "tags": null
          },
          "name": "stdout",
          "output_type": "stream",
          "text": [
            "68.99427580833435\n",
            "55.371705293655396\n",
            "52.98316502571106\n",
            "10.054839372634888\n",
            "9.917023181915283\n",
            "9.624844312667847\n",
            "9.438341617584229\n"
          ]
        }
      ],
      "source": [
        "#Apriori using Kryo serilizer\n",
        "spark = SparkSession.builder.master(\"local[*]\").getOrCreate() \n",
        "sc = spark.sparkContext\n",
        "sc.setSystemProperty(\"spark.serializer\", \"org.apache.spark.serializer.KryoSerializer\")\n",
        "\n",
        "\n",
        "rdd0 = sc.parallelize(ENdf,2)\n",
        "rdd=rdd0.map(lambda x: (1,list(set(text_cleaning(deEmojify(x)))))) \n",
        "percentage = [0.05,0.075,0.1,0.125,0.15,0.175,0.2]\n",
        "multiple = rdd.count()\n",
        "threshold = [x * multiple for x in percentage]\n",
        "\n",
        "support_time_kryo = dict()\n",
        "for i in threshold:\n",
        "  start1 = time.time()\n",
        "\n",
        "  APriori(rdd,i)  \n",
        "  end1 = time.time()\n",
        "  support_time_kryo[i] = end1 - start1\n",
        "  print(support_time_kryo[i])"
      ]
    },
    {
      "cell_type": "code",
      "source": [
        "plt.plot(list(support_time_java.keys()), list(support_time_java.values()),label=\"Java\")\n",
        "plt.plot(list(support_time_kryo.keys()), list(support_time_kryo.values()),label=\"Kryo\")\n",
        "plt.ylabel('Time in seconds',fontsize=15)\n",
        "plt.xlabel('Minimum support',fontsize=15)\n",
        "plt.title('Time and different supports',fontsize=20)\n",
        "plt.legend()\n",
        "plt.legend()\n",
        "plt.show()"
      ],
      "metadata": {
        "colab": {
          "base_uri": "https://localhost:8080/",
          "height": 305
        },
        "id": "qnMwVOqnTF9R",
        "outputId": "a9f3536b-b8cd-4c17-ead5-6d89d1322d98"
      },
      "execution_count": null,
      "outputs": [
        {
          "output_type": "display_data",
          "data": {
            "text/plain": [
              "<IPython.core.display.Javascript object>"
            ],
            "application/javascript": [
              "\n",
              "    async function download(id, filename, size) {\n",
              "      if (!google.colab.kernel.accessAllowed) {\n",
              "        return;\n",
              "      }\n",
              "      const div = document.createElement('div');\n",
              "      const label = document.createElement('label');\n",
              "      label.textContent = `Downloading \"${filename}\": `;\n",
              "      div.appendChild(label);\n",
              "      const progress = document.createElement('progress');\n",
              "      progress.max = size;\n",
              "      div.appendChild(progress);\n",
              "      document.body.appendChild(div);\n",
              "\n",
              "      const buffers = [];\n",
              "      let downloaded = 0;\n",
              "\n",
              "      const channel = await google.colab.kernel.comms.open(id);\n",
              "      // Send a message to notify the kernel that we're ready.\n",
              "      channel.send({})\n",
              "\n",
              "      for await (const message of channel.messages) {\n",
              "        // Send a message to notify the kernel that we're ready.\n",
              "        channel.send({})\n",
              "        if (message.buffers) {\n",
              "          for (const buffer of message.buffers) {\n",
              "            buffers.push(buffer);\n",
              "            downloaded += buffer.byteLength;\n",
              "            progress.value = downloaded;\n",
              "          }\n",
              "        }\n",
              "      }\n",
              "      const blob = new Blob(buffers, {type: 'application/binary'});\n",
              "      const a = document.createElement('a');\n",
              "      a.href = window.URL.createObjectURL(blob);\n",
              "      a.download = filename;\n",
              "      div.appendChild(a);\n",
              "      a.click();\n",
              "      div.remove();\n",
              "    }\n",
              "  "
            ]
          },
          "metadata": {}
        },
        {
          "output_type": "display_data",
          "data": {
            "text/plain": [
              "<IPython.core.display.Javascript object>"
            ],
            "application/javascript": [
              "download(\"download_61f8a30e-771e-42d3-9b2f-9029fb0fda9e\", \"abc.pdf\", 12196)"
            ]
          },
          "metadata": {}
        },
        {
          "output_type": "display_data",
          "data": {
            "text/plain": [
              "<Figure size 432x288 with 1 Axes>"
            ],
            "image/png": "[encoded data removed]"
          },
          "metadata": {
            "needs_background": "light"
          }
        }
      ]
    },
    {
      "cell_type": "markdown",
      "metadata": {
        "id": "_MOB-LWD24RC"
      },
      "source": [
        "EXECUTION TIME AND INCREASING DATA SIZE - ONLY KRYO SERIALIZER IS USED"
      ]
    },
    {
      "cell_type": "code",
      "execution_count": null,
      "metadata": {
        "id": "febQU3Os3DaQ"
      },
      "outputs": [],
      "source": [
        "del rdd0\n",
        "del rdd\n",
        "del spark\n",
        "del sc\n",
        "del threshold"
      ]
    },
    {
      "cell_type": "code",
      "execution_count": null,
      "metadata": {
        "colab": {
          "base_uri": "https://localhost:8080/"
        },
        "id": "g3RW-PpS28zw",
        "outputId": "3a3ae33c-f2bc-4a87-aa37-f464ac5fdf65"
      },
      "outputs": [
        {
          "output_type": "stream",
          "name": "stdout",
          "text": [
            "18.747223138809204\n",
            "35.773361921310425\n",
            "52.63619422912598\n",
            "70.89056777954102\n",
            "86.86430644989014\n",
            "104.13337826728821\n",
            "120.86569261550903\n",
            "139.32417821884155\n",
            "155.93398690223694\n",
            "170.876606464386\n"
          ]
        }
      ],
      "source": [
        "spark = SparkSession.builder.master(\"local[*]\").getOrCreate() \n",
        "sc = spark.sparkContext\n",
        "sc.setSystemProperty(\"spark.serializer\", \"org.apache.spark.serializer.KryoSerializer\")\n",
        "\n",
        "sample = np.arange(0.1, 1.1, step=0.1)\n",
        "\n",
        "\n",
        "sampling_time = dict()\n",
        "for i in sample:\n",
        "  \n",
        "  only_english=df[df['language'].str.contains('en')]\n",
        "  ENdf=only_english[{\"text\"}]\n",
        "  ENdf=ENdf.sample(frac=i, replace=False, random_state=1)\n",
        "  ENdf=ENdf.text.tolist()\n",
        "  rdd0 = sc.parallelize(ENdf,2)\n",
        "  rdd=rdd0.map(lambda x: (1,list(set(text_cleaning(deEmojify(x)))))) \n",
        "  threshold=rdd.count()*0.5\n",
        "\n",
        "  start2 = time.time()\n",
        "  APriori(rdd,threshold)  \n",
        "  end2 = time.time()\n",
        "  sampling_time[i] = end2 - start2\n",
        "  print(sampling_time[i])\n"
      ]
    },
    {
      "cell_type": "code",
      "execution_count": null,
      "metadata": {
        "id": "wtL8E6D728wL",
        "colab": {
          "base_uri": "https://localhost:8080/",
          "height": 305
        },
        "outputId": "74a20bf8-6814-43b0-da99-d8675878fbca"
      },
      "outputs": [
        {
          "output_type": "display_data",
          "data": {
            "text/plain": [
              "<IPython.core.display.Javascript object>"
            ],
            "application/javascript": [
              "\n",
              "    async function download(id, filename, size) {\n",
              "      if (!google.colab.kernel.accessAllowed) {\n",
              "        return;\n",
              "      }\n",
              "      const div = document.createElement('div');\n",
              "      const label = document.createElement('label');\n",
              "      label.textContent = `Downloading \"${filename}\": `;\n",
              "      div.appendChild(label);\n",
              "      const progress = document.createElement('progress');\n",
              "      progress.max = size;\n",
              "      div.appendChild(progress);\n",
              "      document.body.appendChild(div);\n",
              "\n",
              "      const buffers = [];\n",
              "      let downloaded = 0;\n",
              "\n",
              "      const channel = await google.colab.kernel.comms.open(id);\n",
              "      // Send a message to notify the kernel that we're ready.\n",
              "      channel.send({})\n",
              "\n",
              "      for await (const message of channel.messages) {\n",
              "        // Send a message to notify the kernel that we're ready.\n",
              "        channel.send({})\n",
              "        if (message.buffers) {\n",
              "          for (const buffer of message.buffers) {\n",
              "            buffers.push(buffer);\n",
              "            downloaded += buffer.byteLength;\n",
              "            progress.value = downloaded;\n",
              "          }\n",
              "        }\n",
              "      }\n",
              "      const blob = new Blob(buffers, {type: 'application/binary'});\n",
              "      const a = document.createElement('a');\n",
              "      a.href = window.URL.createObjectURL(blob);\n",
              "      a.download = filename;\n",
              "      div.appendChild(a);\n",
              "      a.click();\n",
              "      div.remove();\n",
              "    }\n",
              "  "
            ]
          },
          "metadata": {}
        },
        {
          "output_type": "display_data",
          "data": {
            "text/plain": [
              "<IPython.core.display.Javascript object>"
            ],
            "application/javascript": [
              "download(\"download_2ca4efc4-a0ed-43bc-9c75-1111eca87ee5\", \"abc.pdf\", 11021)"
            ]
          },
          "metadata": {}
        },
        {
          "output_type": "display_data",
          "data": {
            "text/plain": [
              "<Figure size 432x288 with 1 Axes>"
            ],
            "image/png": "[encoded data removed]"
          },
          "metadata": {
            "needs_background": "light"
          }
        }
      ],
      "source": [
        "plt.plot(list(sampling_time.keys()), list(sampling_time.values()),color='orange')\n",
        "\n",
        "plt.ylabel('Time in seconds',fontsize=15)\n",
        "plt.xlabel('Sample size',fontsize=15)\n",
        "plt.title('Time and different sample fractions',fontsize=20) \n",
        "plt.show()"
      ]
    },
    {
      "cell_type": "code",
      "execution_count": null,
      "metadata": {
        "colab": {
          "base_uri": "https://localhost:8080/"
        },
        "id": "xHIYC1RGqPKo",
        "outputId": "f9c60c28-f079-4523-86a0-03c03196db33"
      },
      "outputs": [
        {
          "output_type": "execute_result",
          "data": {
            "text/plain": [
              "2"
            ]
          },
          "metadata": {},
          "execution_count": 44
        }
      ],
      "source": [
        "import multiprocessing\n",
        "cores = multiprocessing.cpu_count() # Count the number of cores in a computer\n",
        "cores"
      ]
    }
  ],
  "metadata": {
    "colab": {
      "collapsed_sections": [],
      "name": "Algorithms for Massive Datasets .ipynb",
      "provenance": []
    },
    "kernelspec": {
      "display_name": "Python 3",
      "name": "python3"
    },
    "language_info": {
      "name": "python"
    }
  },
  "nbformat": 4,
  "nbformat_minor": 0
}